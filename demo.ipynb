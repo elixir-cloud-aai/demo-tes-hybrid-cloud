{
 "cells": [
  {
   "cell_type": "markdown",
   "id": "14bc2771-56c5-4980-a272-820c96d0b825",
   "metadata": {},
   "source": [
    "## 1. Configuration\n",
    "\n",
    "Refer to `README.md` for installation instructions.\n",
    "\n",
    "Let's start off by sourcing secrets and defining the locations of the various required services:"
   ]
  },
  {
   "cell_type": "code",
   "execution_count": null,
   "id": "7cad8b4b-f59e-4f65-bf0d-8645309ee4ee",
   "metadata": {
    "tags": []
   },
   "outputs": [],
   "source": [
    "# source secrets\n",
    "source .env"
   ]
  },
  {
   "cell_type": "markdown",
   "id": "a3869795-9bf5-4642-ba13-020c05e26170",
   "metadata": {},
   "source": [
    "## **2. List TES instances**\n",
    "\n",
    "Let's see what TES instances we have defined:"
   ]
  },
  {
   "cell_type": "code",
   "execution_count": null,
   "id": "e68fe37d-05cc-4a54-8a67-3a6c01e5ad8f",
   "metadata": {
    "tags": []
   },
   "outputs": [],
   "source": [
    "unset TES_INSTANCES\n",
    "declare -A TES_INSTANCES\n",
    "while IFS=',' read -r KEY URL; do\n",
    "    TES_INSTANCES[\"$KEY\"]=$URL\n",
    "done < .tes_instances\n",
    "\n",
    "for KEY in \"${!TES_INSTANCES[@]}\"; do\n",
    "    echo \"$KEY: ${TES_INSTANCES[$KEY]}\"\n",
    "done"
   ]
  },
  {
   "cell_type": "markdown",
   "id": "cbeba35b-b7e5-485e-8421-897a39916d2f",
   "metadata": {
    "tags": []
   },
   "source": [
    "## 3. Executing workflows via the TES network\n",
    "\n",
    "Based off a [previous demonstrator](https://github.com/elixir-cloud-aai/elixir-cloud-demos) showcasing the [cwl-tes](https://github.com/ohsu-comp-bio/cwl-tes), we will demonstrate how a workflow engine with a TES backend can execute workflows on instances of different TES implementations.\n",
    "\n",
    "We will use the [Snakemake](https://github.com/snakemake/snakemake) workflow engine."
   ]
  },
  {
   "attachments": {},
   "cell_type": "markdown",
   "id": "ddb7e8c5-919f-472b-be5d-dd72ead712b6",
   "metadata": {
    "tags": []
   },
   "source": [
    "### 3.1 Running Snakemake workflows\n",
    "\n",
    "As for cwl-tes, we will reuse the \"hash splitter\" workflow, a simple\n",
    "workflow with a scatter-gather step. The tasks of the workflow will be executed on individual TESK/Funnnel instances.\n",
    "Existing files will be overwritten."
   ]
  },
  {
   "cell_type": "code",
   "execution_count": null,
   "id": "26208251-08a0-457f-93f0-eda4c4a7cc22",
   "metadata": {
    "scrolled": true,
    "tags": []
   },
   "outputs": [],
   "source": [
    "export HOME=/tmp\n",
    "for KEY in \"${!TES_INSTANCES[@]}\"; do\n",
    "    TES=\"${TES_INSTANCES[$KEY]}\"\n",
    "    echo \"Submitting task to $KEY ($TES)...\"\n",
    "    snakemake \\\n",
    "        --directory wf-hashsplitter \\\n",
    "        --snakefile wf-hashsplitter/Snakefile \\\n",
    "        --jobs 1 \\\n",
    "        --cores 1 \\\n",
    "        --tes \"${TES%/}\" \\\n",
    "        --forceall \\\n",
    "        --rerun-incomplete \\\n",
    "        --envvars HOME\n",
    "    echo \"================================================================================\"\n",
    "done\n",
    "echo \"DONE\""
   ]
  },
  {
   "cell_type": "markdown",
   "id": "e50ec182-260c-4281-935a-627305b853c2",
   "metadata": {},
   "source": [
    "### 3.2 Task federation via Snakemake\n",
    "\n",
    "Now let's point Snakemake to the proTES TES gateway:"
   ]
  },
  {
   "cell_type": "code",
   "execution_count": null,
   "id": "c79b881b",
   "metadata": {},
   "outputs": [],
   "source": [
    "export HOME=/tmp\n",
    "snakemake \\\n",
    "    --directory wf-federated \\\n",
    "    --snakefile wf-federated/Snakefile \\\n",
    "    --jobs 1 \\\n",
    "    --cores 1 \\\n",
    "    --tes \"${TES_GATEWAY%/}\"  \\\n",
    "    --forceall \\\n",
    "    --rerun-incomplete \\\n",
    "    --envvars HOME\n",
    "echo \"================================================================================\"\n",
    "echo \"DONE\""
   ]
  },
  {
   "cell_type": "markdown",
   "id": "c3fabfc1",
   "metadata": {},
   "source": [
    "### 3.2 Execute the federated workflow (S3 storage) using WESkit\n",
    "\n",
    "First of all deploy WESkit using the following tutorial:\n",
    "https://gitlab.com/one-touch-pipeline/weskit/documentation/-/blob/master/deployment/helm.md\n",
    "\n",
    "Please make sure to activate the workflow_engine_parameters you indent to use. helm-deployment/configs/weskit/config.yaml.tpl\n",
    "e.g. : \"tes\", \"task-home\", \"data-aws-access-key-id\", \"data-aws-secret-access-key\", \"jobs\", \"cores\"\n",
    "\n",
    "After deployment of WESkit you need to configure your S3 storage and submit your request using cURL:\n"
   ]
  },
  {
   "cell_type": "code",
   "execution_count": null,
   "id": "06d7b3b3",
   "metadata": {
    "vscode": {
     "languageId": "plaintext"
    }
   },
   "outputs": [],
   "source": [
    "Test deployment with: curl --ipv4 https://192.168.60.2:30132/ga4gh/wes/v1/service-info --cacert /home/$USER/weskit/helm-deployment/certs/weskit.crt"
   ]
  },
  {
   "cell_type": "code",
   "execution_count": null,
   "id": "89e21d47",
   "metadata": {
    "vscode": {
     "languageId": "plaintext"
    }
   },
   "outputs": [],
   "source": [
    "run_id=$(curl -vvv\\\n",
    " --ipv4 \\\n",
    " --cacert /home/$USER/weskit/helm-deployment/certs/weskit.crt \\\n",
    " -X POST  https://192.168.60.2:30132/ga4gh/wes/v1/runs \\\n",
    " --header 'Content-Type: multipart/form-data' \\\n",
    " --header 'Accept: application/json' \\\n",
    " -F workflow_params='{}' \\\n",
    " -F workflow_type=\"SMK\" \\\n",
    " -F workflow_type_version=\"7.30.2\" \\\n",
    " -F workflow_url=\"file:wf-federated/Snakefile\" \\\n",
    " -F workflow_engine_parameters='{ \n",
    "                \"tes\": \"https://vm4816.kaj.pouta.csc.fi\", \n",
    "                \"task-home\": \"HOME\",\n",
    "                \"data-aws-access-key-id\": \"$ACCESS_KEY_ID\",\n",
    "                \"data-aws-secret-access-key\": \"$SECRET_ACCESS_KEY\",\n",
    "                \"jobs\": \"1\",\n",
    "                \"cores\": \"1\"\n",
    "            }'\\\n",
    "  | jq -r .run_id)"
   ]
  },
  {
   "cell_type": "markdown",
   "id": "5271d81e",
   "metadata": {},
   "source": [
    "Feel free to adjust the \"workflow_engine_parameters\" to your needs."
   ]
  },
  {
   "cell_type": "code",
   "execution_count": null,
   "id": "25ddae8c",
   "metadata": {
    "vscode": {
     "languageId": "plaintext"
    }
   },
   "outputs": [],
   "source": [
    "curl \\\n",
    " --ipv4 \\\n",
    " --cacert /home/$USER/weskit/helm-deployment/certs/weskit.crt \\\n",
    " -X GET  https://192.168.60.2:30132/ga4gh/wes/v1/runs/$run_id \\\n",
    " --header 'Content-Type: multipart/form-data' \\\n",
    " --header 'Accept: application/json' "
   ]
  }
 ],
 "metadata": {
  "kernelspec": {
   "display_name": "Bash",
   "language": "bash",
   "name": "bash"
  },
  "language_info": {
   "codemirror_mode": "shell",
   "file_extension": ".sh",
   "mimetype": "text/x-sh",
   "name": "bash"
  },
  "vscode": {
   "interpreter": {
    "hash": "6a525e7fce8958b358af3fcd807dfa355bd3e01616e47d9acb5605090c3ee537"
   }
  }
 },
 "nbformat": 4,
 "nbformat_minor": 5
}
