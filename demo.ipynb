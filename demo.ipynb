{
 "cells": [
  {
   "cell_type": "markdown",
   "id": "14bc2771-56c5-4980-a272-820c96d0b825",
   "metadata": {},
   "source": [
    "## 1. Configuration\n",
    "\n",
    "Refer to `README.md` for installation instructions.\n",
    "\n",
    "Let's start off by sourcing secrets and defining the locations of the various required services:"
   ]
  },
  {
   "cell_type": "code",
   "execution_count": null,
   "id": "7cad8b4b-f59e-4f65-bf0d-8645309ee4ee",
   "metadata": {
    "tags": []
   },
   "outputs": [],
   "source": [
    "# source secrets\n",
    "source .env"
   ]
  },
  {
   "cell_type": "markdown",
   "id": "a3869795-9bf5-4642-ba13-020c05e26170",
   "metadata": {},
   "source": [
    "## **2. List TES instances**\n",
    "\n",
    "Let's see what TES instances we have defined:"
   ]
  },
  {
   "cell_type": "code",
   "execution_count": null,
   "id": "e68fe37d-05cc-4a54-8a67-3a6c01e5ad8f",
   "metadata": {
    "tags": []
   },
   "outputs": [],
   "source": [
    "unset TES_INSTANCES\n",
    "declare -A TES_INSTANCES\n",
    "while IFS=',' read -r KEY URL; do\n",
    "    TES_INSTANCES[\"$KEY\"]=$URL\n",
    "done < .tes_instances\n",
    "\n",
    "for KEY in \"${!TES_INSTANCES[@]}\"; do\n",
    "    echo \"$KEY: ${TES_INSTANCES[$KEY]}\"\n",
    "done"
   ]
  },
  {
   "cell_type": "markdown",
   "id": "cbeba35b-b7e5-485e-8421-897a39916d2f",
   "metadata": {
    "tags": []
   },
   "source": [
    "## 3. Executing workflows via the TES network\n",
    "\n",
    "Based off a [previous demonstrator](https://github.com/elixir-cloud-aai/elixir-cloud-demos) showcasing the [cwl-tes](https://github.com/ohsu-comp-bio/cwl-tes), we will demonstrate how a workflow engine with a TES backend can execute workflows on instances of different TES implementations.\n",
    "\n",
    "We will use the [Snakemake](https://github.com/snakemake/snakemake) workflow engine."
   ]
  },
  {
   "attachments": {},
   "cell_type": "markdown",
   "id": "ddb7e8c5-919f-472b-be5d-dd72ead712b6",
   "metadata": {
    "tags": []
   },
   "source": [
    "### 3.1 Running Snakemake workflows\n",
    "\n",
    "As for cwl-tes, we will reuse the \"hash splitter\" workflow, a simple\n",
    "workflow with a scatter-gather step. The tasks of the workflow will be executed on individual TESK/Funnnel instances.\n",
    "Existing files will be overwritten."
   ]
  },
  {
   "cell_type": "code",
   "execution_count": null,
   "id": "26208251-08a0-457f-93f0-eda4c4a7cc22",
   "metadata": {
    "scrolled": true,
    "tags": []
   },
   "outputs": [],
   "source": [
    "export HOME=/tmp\n",
    "for KEY in \"${!TES_INSTANCES[@]}\"; do\n",
    "    TES=\"${TES_INSTANCES[$KEY]}\"\n",
    "    echo \"Submitting task to $KEY ($TES)...\"\n",
    "    snakemake \\\n",
    "        --directory wf-hashsplitter \\\n",
    "        --workflow wf-hashsplitter/Snakefile \\\n",
    "        --jobs 1 \\\n",
    "        --cores 1 \\\n",
    "        --tes \"${TES%/}\" \\\n",
    "        --forceall \\\n",
    "        --rerun-incomplete \\\n",
    "        --envvars HOME\n",
    "    echo \"================================================================================\"\n",
    "done\n",
    "echo \"DONE\""
   ]
  },
  {
   "cell_type": "markdown",
   "id": "e50ec182-260c-4281-935a-627305b853c2",
   "metadata": {},
   "source": [
    "### 3.2 Task federation via Snakemake\n",
    "\n",
    "Now let's point Snakemake to the proTES TES gateway:"
   ]
  },
  {
   "cell_type": "code",
   "execution_count": null,
   "id": "c79b881b",
   "metadata": {},
   "outputs": [],
   "source": [
    "export HOME=/tmp\n",
    "snakemake \\\n",
    "    --directory wf-hashsplitter \\\n",
    "    --workflow wf-hashsplitter/Snakefile \\\n",
    "    --jobs 1 \\\n",
    "    --cores 1 \\\n",
    "    --tes \"${TES_GATEWAY%/}\"  \\\n",
    "    --forceall \\\n",
    "    --rerun-incomplete \\\n",
    "    --envvars HOME\n",
    "echo \"================================================================================\"\n",
    "echo \"DONE\""
   ]
  }
 ],
 "metadata": {
  "kernelspec": {
   "display_name": "Bash",
   "language": "bash",
   "name": "bash"
  },
  "language_info": {
   "codemirror_mode": "shell",
   "file_extension": ".sh",
   "mimetype": "text/x-sh",
   "name": "bash"
  },
  "vscode": {
   "interpreter": {
    "hash": "6a525e7fce8958b358af3fcd807dfa355bd3e01616e47d9acb5605090c3ee537"
   }
  }
 },
 "nbformat": 4,
 "nbformat_minor": 5
}
