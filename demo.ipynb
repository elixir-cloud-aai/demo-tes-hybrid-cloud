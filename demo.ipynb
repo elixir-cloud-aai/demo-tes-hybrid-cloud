{
 "cells": [
  {
   "cell_type": "markdown",
   "id": "dfba5cdb-f769-4d04-90cd-c8ec30be08a6",
   "metadata": {
    "tags": []
   },
   "source": [
    "Refer to `README.md` for installation instructions."
   ]
  },
  {
   "cell_type": "markdown",
   "id": "14bc2771-56c5-4980-a272-820c96d0b825",
   "metadata": {},
   "source": [
    "## 1. Configuration\n",
    "\n",
    "Let's start off by sourcing secrets and defining the locations of the various required services:"
   ]
  },
  {
   "cell_type": "code",
   "execution_count": 1,
   "id": "7cad8b4b-f59e-4f65-bf0d-8645309ee4ee",
   "metadata": {
    "tags": []
   },
   "outputs": [],
   "source": [
    "# source secrets\n",
    "source .env"
   ]
  },
  {
   "cell_type": "markdown",
   "id": "a3869795-9bf5-4642-ba13-020c05e26170",
   "metadata": {},
   "source": [
    "#### **2. List TES instances**\n",
    "\n",
    "Let's see what TES instances we have defined:"
   ]
  },
  {
   "cell_type": "code",
   "execution_count": null,
   "id": "e68fe37d-05cc-4a54-8a67-3a6c01e5ad8f",
   "metadata": {
    "tags": []
   },
   "outputs": [],
   "source": [
    "unset TES_INSTANCES\n",
    "declare -A TES_INSTANCES\n",
    "while IFS=',' read -r KEY URL; do\n",
    "    TES_INSTANCES[\"$KEY\"]=$URL\n",
    "done < .tes_instances\n",
    "\n",
    "for KEY in \"${!TES_INSTANCES[@]}\"; do\n",
    "    echo \"$KEY: ${TES_INSTANCES[$KEY]}\"\n",
    "done"
   ]
  },
  {
   "cell_type": "markdown",
   "id": "cbeba35b-b7e5-485e-8421-897a39916d2f",
   "metadata": {
    "tags": []
   },
   "source": [
    "## 3. Executing workflows via the TES network\n",
    "\n",
    "Similar to the demo done by Alex Kanitz for cwl-tes, we will demonstrate how a workflow engine with a TES backend\n",
    "can execute workflows on a different TES instances.\n",
    "\n",
    "We will use the [`snakemake`](https://github.com/snakemake/snakemake) workflow engine."
   ]
  },
  {
   "cell_type": "markdown",
   "id": "ddb7e8c5-919f-472b-be5d-dd72ead712b6",
   "metadata": {
    "tags": []
   },
   "source": [
    "### Running Snakemake workflows\n",
    "\n",
    "As for cwl-tes, we will reuse the \"hash splitter\" workflow, a simple\n",
    "workflow with a scatter-gather step."
   ]
  },
  {
   "cell_type": "code",
   "execution_count": null,
   "id": "26208251-08a0-457f-93f0-eda4c4a7cc22",
   "metadata": {
    "tags": []
   },
   "outputs": [],
   "source": [
    "unset TASKS\n",
    "declare -A TASKS\n",
    "export HOME=/tmp\n",
    "for KEY in \"${!TES_INSTANCES[@]}\"; do\n",
    "    TES=\"${TES_INSTANCES[$KEY]}\"\n",
    "    echo \"Submitting task to $KEY ($TES)...\"\n",
    "    TASK_ID=$( \\\n",
    "        snakemake --tes \"${TES%/}/ga4gh/tes/\" --snakefile Snakefile_s3 -F --jobs 1 --cores 1 --envvars HOME \\\n",
    "            --tes_user \"${FUNNEL_SERVER_USER}\" --tes_password \"${FUNNEL_SERVER_PASSWORD}\" | \\\n",
    "        jq \".id\" - | \\\n",
    "        tr -d '\"'\n",
    "    )\n",
    "    if [[ $TASK_ID == \"null\" ]]; then\n",
    "        echo \"FAILED\"\n",
    "    else\n",
    "        echo \"Task ID: $TASK_ID\"\n",
    "        TASKS[[ $TASK_ID ]]=\"$TES\"\n",
    "    fi\n",
    "    echo \"================================================================================\"\n",
    "done\n",
    "echo \"DONE\""
   ]
  },
  {
   "cell_type": "markdown",
   "id": "533e7aef-c2e5-472a-9a54-23992be6fab9",
   "metadata": {
    "tags": []
   },
   "source": [
    "Let's check one more time the status of a selected task:"
   ]
  },
  {
   "attachments": {},
   "cell_type": "markdown",
   "id": "ef86b63e-e869-4e83-9358-9abf76367e3b",
   "metadata": {
    "tags": []
   },
   "source": [
    "RESPONSE=$( \\\n",
    "    curl \\\n",
    "    --silent \\\n",
    "    --request \"GET\" \\\n",
    "    --header \"accept: application/json\" \\\n",
    "    --header \"Content-Type: application/json\" \\\n",
    "    \"${TES%/}/v1/tasks/${TASK_ID}\"\n",
    ")\n",
    "echo $\n",
    "\n",
    "\n",
    "\n"
   ]
  }
 ],
 "metadata": {
  "kernelspec": {
   "display_name": "Bash",
   "language": "bash",
   "name": "bash"
  },
  "language_info": {
   "codemirror_mode": "shell",
   "file_extension": ".sh",
   "mimetype": "text/x-sh",
   "name": "python",
   "version": "3.8.16"
  },
  "vscode": {
   "interpreter": {
    "hash": "6a525e7fce8958b358af3fcd807dfa355bd3e01616e47d9acb5605090c3ee537"
   }
  }
 },
 "nbformat": 4,
 "nbformat_minor": 5
}
